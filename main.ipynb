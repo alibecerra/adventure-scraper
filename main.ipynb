{
 "cells": [
  {
   "cell_type": "code",
   "execution_count": 1,
   "metadata": {},
   "outputs": [
    {
     "ename": "ModuleNotFoundError",
     "evalue": "No module named 'bs4'",
     "output_type": "error",
     "traceback": [
      "\u001b[0;31m---------------------------------------------------------------------------\u001b[0m",
      "\u001b[0;31mModuleNotFoundError\u001b[0m                       Traceback (most recent call last)",
      "Cell \u001b[0;32mIn[1], line 1\u001b[0m\n\u001b[0;32m----> 1\u001b[0m \u001b[38;5;28;01mfrom\u001b[39;00m\u001b[38;5;250m \u001b[39m\u001b[38;5;21;01mbs4\u001b[39;00m\u001b[38;5;250m \u001b[39m\u001b[38;5;28;01mimport\u001b[39;00m BeautifulSoup\n\u001b[1;32m      2\u001b[0m \u001b[38;5;28;01mfrom\u001b[39;00m\u001b[38;5;250m \u001b[39m\u001b[38;5;21;01mtabulate\u001b[39;00m\u001b[38;5;250m \u001b[39m\u001b[38;5;28;01mimport\u001b[39;00m tabulate\n\u001b[1;32m      3\u001b[0m \u001b[38;5;28;01mimport\u001b[39;00m\u001b[38;5;250m \u001b[39m\u001b[38;5;21;01mre\u001b[39;00m\n",
      "\u001b[0;31mModuleNotFoundError\u001b[0m: No module named 'bs4'"
     ]
    }
   ],
   "source": [
    "from bs4 import BeautifulSoup\n",
    "from tabulate import tabulate\n",
    "import re\n",
    "\n",
    "browser = mechanicalsoup.StatefulBrowser()\n",
    "url = \"https://recshop.csusb.edu/Program/GetProducts?productTypeCV=00000000-0000-0000-0000-000000003502&classification=7f9e3be9-bc47-443a-86ba-3c7fa4c13bb5\"\n",
    "browser.open(url)\n",
    "prefix_url = \"https://recshop.csusb.edu\"\n",
    "\n"
   ]
  },
  {
   "cell_type": "code",
   "execution_count": 7,
   "metadata": {},
   "outputs": [],
   "source": [
    "# Using this cell for the webpage\n",
    "page = browser.page\n",
    "\n",
    "pattern = r\"window\\.location='\\/Program\\/GetProgramDetails\\?courseId=[\\w-]+&semesterId=[\\w-]+'(?=})\"\n",
    "matches = re.findall(pattern, str(page))\n"
   ]
  },
  {
   "cell_type": "code",
   "execution_count": null,
   "metadata": {},
   "outputs": [],
   "source": [
    "\n",
    "trip_list = [\n",
    "    [\"Trip Name\", \"Spots left\"]\n",
    "]\n",
    "for link in matches:\n",
    "    trip_page_link = prefix_url + link[17:-1]\n",
    "    page_link = browser.get(trip_page_link)\n",
    "    page_link = page_link.content\n",
    "    page_link_soup = BeautifulSoup(page_link, 'html.parser')\n",
    "\n",
    "    trip_title = page_link_soup.find('title').text\n",
    "\n",
    "    if  page_link_soup.find('p', class_=\"car-text\") == None:\n",
    "        trip_spots = \"0 spot(s)\"\n",
    "    else:\n",
    "        trip_spots = page_link_soup.find('p', class_=\"car-text\").text\n",
    "\n",
    "    trip_list.append([trip_title[:-23], trip_spots])\n",
    "\n",
    "\n",
    "table = tabulate(trip_list, headers=\"firstrow\", tablefmt=\"grid\")\n",
    "print(table)\n",
    "\n",
    "\n"
   ]
  }
 ],
 "metadata": {
  "kernelspec": {
   "display_name": "Python [conda env:base] *",
   "language": "python",
   "name": "conda-base-py"
  },
  "language_info": {
   "codemirror_mode": {
    "name": "ipython",
    "version": 3
   },
   "file_extension": ".py",
   "mimetype": "text/x-python",
   "name": "python",
   "nbconvert_exporter": "python",
   "pygments_lexer": "ipython3",
   "version": "3.12.7"
  }
 },
 "nbformat": 4,
 "nbformat_minor": 4
}
