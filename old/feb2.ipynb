{
 "cells": [
  {
   "cell_type": "code",
   "execution_count": 3,
   "metadata": {
    "execution": {
     "iopub.execute_input": "2025-03-01T04:54:42.308472Z",
     "iopub.status.busy": "2025-03-01T04:54:42.308008Z",
     "iopub.status.idle": "2025-03-01T04:54:42.404445Z",
     "shell.execute_reply": "2025-03-01T04:54:42.404139Z",
     "shell.execute_reply.started": "2025-03-01T04:54:42.308443Z"
    },
    "scrolled": true
   },
   "outputs": [],
   "source": [
    "from bs4 import BeautifulSoup\n",
    "#from tabulate import tabulate\n",
    "import requests\n",
    "import re\n",
    "import pandas as pd"
   ]
  },
  {
   "cell_type": "code",
   "execution_count": 4,
   "metadata": {
    "scrolled": true
   },
   "outputs": [],
   "source": [
    "# get the data from csusb.edu/adventure of all trips\n",
    "# that will get all the fusion links\n",
    "    # get the data from fusion of the semesterID and programID"
   ]
  },
  {
   "cell_type": "code",
   "execution_count": 5,
   "metadata": {
    "execution": {
     "iopub.execute_input": "2025-03-01T04:59:00.787280Z",
     "iopub.status.busy": "2025-03-01T04:59:00.786882Z",
     "iopub.status.idle": "2025-03-01T04:59:00.790570Z",
     "shell.execute_reply": "2025-03-01T04:59:00.789994Z",
     "shell.execute_reply.started": "2025-03-01T04:59:00.787252Z"
    }
   },
   "outputs": [],
   "source": [
    "main_page = \"https://www.csusb.edu/recreation-wellness/adventure/trips/all-trips-date\"\n",
    "base_url = \"https://www.csusb.edu\""
   ]
  },
  {
   "cell_type": "code",
   "execution_count": 6,
   "metadata": {
    "execution": {
     "iopub.execute_input": "2025-03-01T04:59:20.315575Z",
     "iopub.status.busy": "2025-03-01T04:59:20.315177Z",
     "iopub.status.idle": "2025-03-01T04:59:20.319974Z",
     "shell.execute_reply": "2025-03-01T04:59:20.319385Z",
     "shell.execute_reply.started": "2025-03-01T04:59:20.315549Z"
    }
   },
   "outputs": [],
   "source": [
    "def gathering():\n",
    "\n",
    "    response = requests.get(main_page)\n",
    "    soup = BeautifulSoup(response.text, 'html.parser')\n",
    "    html = soup.prettify()\n",
    "\n",
    "    list_of_href = soup.find_all('a', href=True)\n",
    "\n",
    "    pattern = re.compile(r'\\/event\\/\\d{5,6}')\n",
    "\n",
    "    href_trips = []\n",
    "\n",
    "    for i in list_of_href:\n",
    "\n",
    "        match = re.search(pattern, str(i))\n",
    "        if match:\n",
    "            href_trips.append(match.group())\n",
    "    \n",
    "    return href_trips"
   ]
  },
  {
   "cell_type": "code",
   "execution_count": 7,
   "metadata": {
    "execution": {
     "iopub.execute_input": "2025-03-01T05:03:53.397971Z",
     "iopub.status.busy": "2025-03-01T05:03:53.397430Z",
     "iopub.status.idle": "2025-03-01T05:03:53.581384Z",
     "shell.execute_reply": "2025-03-01T05:03:53.581054Z",
     "shell.execute_reply.started": "2025-03-01T05:03:53.397935Z"
    }
   },
   "outputs": [],
   "source": [
    "csusb_trips = gathering()"
   ]
  },
  {
   "cell_type": "code",
   "execution_count": 8,
   "metadata": {
    "execution": {
     "iopub.execute_input": "2025-03-01T05:03:53.724070Z",
     "iopub.status.busy": "2025-03-01T05:03:53.723752Z",
     "iopub.status.idle": "2025-03-01T05:03:53.727953Z",
     "shell.execute_reply": "2025-03-01T05:03:53.727502Z",
     "shell.execute_reply.started": "2025-03-01T05:03:53.724046Z"
    },
    "scrolled": true
   },
   "outputs": [
    {
     "data": {
      "text/plain": [
       "['/event/577464',\n",
       " '/event/503544',\n",
       " '/event/582012',\n",
       " '/event/99841',\n",
       " '/event/570378',\n",
       " '/event/577528',\n",
       " '/event/100206',\n",
       " '/event/503542',\n",
       " '/event/577507',\n",
       " '/event/500487',\n",
       " '/event/99601',\n",
       " '/event/500382',\n",
       " '/event/577531',\n",
       " '/event/585714',\n",
       " '/event/577534',\n",
       " '/event/99596',\n",
       " '/event/97266',\n",
       " '/event/500551',\n",
       " '/event/578552',\n",
       " '/event/578551',\n",
       " '/event/578547',\n",
       " '/event/503540',\n",
       " '/event/501271',\n",
       " '/event/552629',\n",
       " '/event/500481',\n",
       " '/event/580197',\n",
       " '/event/500557',\n",
       " '/event/534830',\n",
       " '/event/582076',\n",
       " '/event/99301',\n",
       " '/event/585600',\n",
       " '/event/500009',\n",
       " '/event/553312']"
      ]
     },
     "execution_count": 8,
     "metadata": {},
     "output_type": "execute_result"
    }
   ],
   "source": [
    "csusb_trips"
   ]
  },
  {
   "cell_type": "code",
   "execution_count": 12,
   "metadata": {
    "execution": {
     "iopub.execute_input": "2025-03-01T05:03:30.933763Z",
     "iopub.status.busy": "2025-03-01T05:03:30.933366Z",
     "iopub.status.idle": "2025-03-01T05:03:30.938769Z",
     "shell.execute_reply": "2025-03-01T05:03:30.938292Z",
     "shell.execute_reply.started": "2025-03-01T05:03:30.933735Z"
    }
   },
   "outputs": [],
   "source": [
    "def fetch_trip_info(csusb_ids):\n",
    "    trip_info = []\n",
    "    for page in csusb_ids:\n",
    "        trip = requests.get(base_url + page)\n",
    "        #print(base_url + page)\n",
    "        trip_soup = BeautifulSoup(trip.text, 'html.parser')\n",
    "        #print(trip_soup)\n",
    "       # print(\"-------------------------------------------------------------------------------------------------\")\n",
    "        trip_date = trip_soup.find('div', class_=\"event--date\").text\n",
    "        trip_name = trip_soup.find('h2', class_=\"event--title\").text\n",
    "        fusion_button = trip_soup.find('a', class_=\"btn btn-primary btn-solid\")\n",
    "        print(fusion_button)\n",
    "        # checking to make sure if the fusion button is valid \n",
    "        if (page != fusion_button) and (fusion_button != None):\n",
    "            courseID = (str(fusion_button.get('href')))[-36:]\n",
    "            print(courseID)\n",
    "     \n",
    "        get_spots_left(courseID)\n",
    "        trip_info.append([trip_name, trip_date])\n",
    "        \n",
    "        #print(fusion_button)\n",
    "        #print(courseID)\n",
    "\n",
    "    return trip_info"
   ]
  },
  {
   "cell_type": "code",
   "execution_count": 13,
   "metadata": {
    "execution": {
     "iopub.execute_input": "2025-03-01T05:04:45.441236Z",
     "iopub.status.busy": "2025-03-01T05:04:45.440845Z",
     "iopub.status.idle": "2025-03-01T05:04:45.654702Z",
     "shell.execute_reply": "2025-03-01T05:04:45.654305Z",
     "shell.execute_reply.started": "2025-03-01T05:04:45.441211Z"
    }
   },
   "outputs": [
    {
     "name": "stdout",
     "output_type": "stream",
     "text": [
      "<a class=\"btn btn-primary btn-solid\" href=\"https://recshop.csusb.edu/Program/GetProgramDetails?courseId=c2a2f8a4-2a25-4988-be15-721782459830\">Register Here</a>\n",
      "c2a2f8a4-2a25-4988-be15-721782459830\n",
      "[<p>We're sorry, but we were unable to process your last request. Please try your request again.</p>, <p><a class=\"btn btn-primary\" href=\"/\" role=\"button\">Home</a></p>, <p id=\"JavascriptErrorDescription\"></p>, <p id=\"loadingspinner\" style=\"\">\n",
      "                            Loading...\n",
      "                        </p>]\n",
      "<a class=\"btn btn-primary btn-solid\" href=\"https://recshop.csusb.edu/Program/GetProgramDetails?courseId=15b08a52-fb4f-41f2-9a36-77a642ee2487\">Register Here</a>\n",
      "15b08a52-fb4f-41f2-9a36-77a642ee2487\n",
      "[<p>We're sorry, but we were unable to process your last request. Please try your request again.</p>, <p><a class=\"btn btn-primary\" href=\"/\" role=\"button\">Home</a></p>, <p id=\"JavascriptErrorDescription\"></p>, <p id=\"loadingspinner\" style=\"\">\n",
      "                            Loading...\n",
      "                        </p>]\n",
      "<a class=\"btn btn-primary btn-solid\" href=\"https://recshop.csusb.edu/Program/GetProgramDetails?courseId=c77c53e1-dd0b-4bfe-8f74-0b2c33e75bac\">Register Here</a>\n",
      "c77c53e1-dd0b-4bfe-8f74-0b2c33e75bac\n",
      "[<p>We're sorry, but we were unable to process your last request. Please try your request again.</p>, <p><a class=\"btn btn-primary\" href=\"/\" role=\"button\">Home</a></p>, <p id=\"JavascriptErrorDescription\"></p>, <p id=\"loadingspinner\" style=\"\">\n",
      "                            Loading...\n",
      "                        </p>]\n",
      "<a class=\"btn btn-primary btn-solid\" href=\"https://recshop.csusb.edu/Program/GetProgramDetails?courseId=943dca0f-f466-4150-bfda-9cbbc64ae067\">Register Here</a>\n",
      "943dca0f-f466-4150-bfda-9cbbc64ae067\n",
      "[<p>We're sorry, but we were unable to process your last request. Please try your request again.</p>, <p><a class=\"btn btn-primary\" href=\"/\" role=\"button\">Home</a></p>, <p id=\"JavascriptErrorDescription\"></p>, <p id=\"loadingspinner\" style=\"\">\n",
      "                            Loading...\n",
      "                        </p>]\n",
      "<a class=\"btn btn-primary btn-solid\" href=\"https://recshop.csusb.edu/Program/GetProgramDetails?courseId=45925bfb-0a37-4369-8d31-046d2e0a24a1\">Register Here</a>\n",
      "45925bfb-0a37-4369-8d31-046d2e0a24a1\n",
      "[<p>We're sorry, but we were unable to process your last request. Please try your request again.</p>, <p><a class=\"btn btn-primary\" href=\"/\" role=\"button\">Home</a></p>, <p id=\"JavascriptErrorDescription\"></p>, <p id=\"loadingspinner\" style=\"\">\n",
      "                            Loading...\n",
      "                        </p>]\n",
      "<a class=\"btn btn-primary btn-solid\" href=\"https://recshop.csusb.edu/Program/GetProgramDetails?courseId=8f9f92f5-c9be-48c3-a543-ad2d54f607b8\">Register Here</a>\n",
      "8f9f92f5-c9be-48c3-a543-ad2d54f607b8\n",
      "[<p>We're sorry, but we were unable to process your last request. Please try your request again.</p>, <p><a class=\"btn btn-primary\" href=\"/\" role=\"button\">Home</a></p>, <p id=\"JavascriptErrorDescription\"></p>, <p id=\"loadingspinner\" style=\"\">\n",
      "                            Loading...\n",
      "                        </p>]\n",
      "<a class=\"btn btn-primary btn-solid\" href=\"https://recshop.csusb.edu/Program/GetProgramDetails?courseId=10c39ee3-1a98-4512-b654-c062fb1f6b12\">Register Here</a>\n",
      "10c39ee3-1a98-4512-b654-c062fb1f6b12\n",
      "[<p>We're sorry, but we were unable to process your last request. Please try your request again.</p>, <p><a class=\"btn btn-primary\" href=\"/\" role=\"button\">Home</a></p>, <p id=\"JavascriptErrorDescription\"></p>, <p id=\"loadingspinner\" style=\"\">\n",
      "                            Loading...\n",
      "                        </p>]\n",
      "<a class=\"btn btn-primary btn-solid\" href=\"https://recshop.csusb.edu/Program/GetProgramDetails?courseId=d921b108-4059-4eef-bd42-9bd9c72c2557\">Register Here</a>\n",
      "d921b108-4059-4eef-bd42-9bd9c72c2557\n",
      "[<p>We're sorry, but we were unable to process your last request. Please try your request again.</p>, <p><a class=\"btn btn-primary\" href=\"/\" role=\"button\">Home</a></p>, <p id=\"JavascriptErrorDescription\"></p>, <p id=\"loadingspinner\" style=\"\">\n",
      "                            Loading...\n",
      "                        </p>]\n",
      "<a class=\"btn btn-primary btn-solid\" href=\"https://recshop.csusb.edu/Program/GetProgramDetails?courseId=83ab974a-a8ad-44df-acf6-386ecb672213\">Register Here</a>\n",
      "83ab974a-a8ad-44df-acf6-386ecb672213\n",
      "[<p>We're sorry, but we were unable to process your last request. Please try your request again.</p>, <p><a class=\"btn btn-primary\" href=\"/\" role=\"button\">Home</a></p>, <p id=\"JavascriptErrorDescription\"></p>, <p id=\"loadingspinner\" style=\"\">\n",
      "                            Loading...\n",
      "                        </p>]\n",
      "<a class=\"btn btn-primary btn-solid\" href=\"https://recshop.csusb.edu/Program/GetProgramDetails?courseId=54d62972-c7bb-4097-9675-302d6a501d9c\">Register Here</a>\n",
      "54d62972-c7bb-4097-9675-302d6a501d9c\n",
      "[<p>We're sorry, but we were unable to process your last request. Please try your request again.</p>, <p><a class=\"btn btn-primary\" href=\"/\" role=\"button\">Home</a></p>, <p id=\"JavascriptErrorDescription\"></p>, <p id=\"loadingspinner\" style=\"\">\n",
      "                            Loading...\n",
      "                        </p>]\n",
      "<a class=\"btn btn-primary btn-solid\" href=\"https://recshop.csusb.edu/Program/GetProgramDetails?courseId=10bf1e00-2c89-471b-8373-05374b04e99b\">Register Here</a>\n",
      "10bf1e00-2c89-471b-8373-05374b04e99b\n",
      "[<p>We're sorry, but we were unable to process your last request. Please try your request again.</p>, <p><a class=\"btn btn-primary\" href=\"/\" role=\"button\">Home</a></p>, <p id=\"JavascriptErrorDescription\"></p>, <p id=\"loadingspinner\" style=\"\">\n",
      "                            Loading...\n",
      "                        </p>]\n",
      "<a class=\"btn btn-primary btn-solid\" href=\"https://recshop.csusb.edu/Program/GetProgramDetails?courseId=82282b65-6d8c-4cc9-a271-68f1baf51c95\">Register Here</a>\n",
      "82282b65-6d8c-4cc9-a271-68f1baf51c95\n",
      "[<p>We're sorry, but we were unable to process your last request. Please try your request again.</p>, <p><a class=\"btn btn-primary\" href=\"/\" role=\"button\">Home</a></p>, <p id=\"JavascriptErrorDescription\"></p>, <p id=\"loadingspinner\" style=\"\">\n",
      "                            Loading...\n",
      "                        </p>]\n",
      "<a class=\"btn btn-primary btn-solid\" href=\"https://recshop.csusb.edu/Program/GetProgramDetails?courseId=1d391e04-ef7b-45bd-abde-c2ed491e29fa\">Register Here</a>\n",
      "1d391e04-ef7b-45bd-abde-c2ed491e29fa\n",
      "[<p>We're sorry, but we were unable to process your last request. Please try your request again.</p>, <p><a class=\"btn btn-primary\" href=\"/\" role=\"button\">Home</a></p>, <p id=\"JavascriptErrorDescription\"></p>, <p id=\"loadingspinner\" style=\"\">\n",
      "                            Loading...\n",
      "                        </p>]\n",
      "<a class=\"btn btn-primary btn-solid\" href=\"https://recshop.csusb.edu/Program/GetProgramDetails?courseId=915640bd-e013-44a3-a722-3e6ede89d3ec\">Register Here</a>\n",
      "915640bd-e013-44a3-a722-3e6ede89d3ec\n",
      "[<p>We're sorry, but we were unable to process your last request. Please try your request again.</p>, <p><a class=\"btn btn-primary\" href=\"/\" role=\"button\">Home</a></p>, <p id=\"JavascriptErrorDescription\"></p>, <p id=\"loadingspinner\" style=\"\">\n",
      "                            Loading...\n",
      "                        </p>]\n",
      "<a class=\"btn btn-primary btn-solid\" href=\"https://recshop.csusb.edu/Program/GetProgramDetails?courseId=2987bdf9-6aaa-4ec8-8345-8be80503d003\">Register Here</a>\n",
      "2987bdf9-6aaa-4ec8-8345-8be80503d003\n",
      "[<p>We're sorry, but we were unable to process your last request. Please try your request again.</p>, <p><a class=\"btn btn-primary\" href=\"/\" role=\"button\">Home</a></p>, <p id=\"JavascriptErrorDescription\"></p>, <p id=\"loadingspinner\" style=\"\">\n",
      "                            Loading...\n",
      "                        </p>]\n",
      "<a class=\"btn btn-primary btn-solid\" href=\"https://recshop.csusb.edu/Program/GetProgramDetails?courseId=4e88fc1f-95e6-475f-8a14-c1c7cbe266ac\">Register Here</a>\n",
      "4e88fc1f-95e6-475f-8a14-c1c7cbe266ac\n",
      "[<p>We're sorry, but we were unable to process your last request. Please try your request again.</p>, <p><a class=\"btn btn-primary\" href=\"/\" role=\"button\">Home</a></p>, <p id=\"JavascriptErrorDescription\"></p>, <p id=\"loadingspinner\" style=\"\">\n",
      "                            Loading...\n",
      "                        </p>]\n",
      "<a class=\"btn btn-primary btn-solid\" href=\"https://recshop.csusb.edu/Program/GetProgramDetails?courseId=4f69fc74-0ea0-4567-beb0-c78a485c6868\">Register Here</a>\n",
      "4f69fc74-0ea0-4567-beb0-c78a485c6868\n",
      "[<p>We're sorry, but we were unable to process your last request. Please try your request again.</p>, <p><a class=\"btn btn-primary\" href=\"/\" role=\"button\">Home</a></p>, <p id=\"JavascriptErrorDescription\"></p>, <p id=\"loadingspinner\" style=\"\">\n",
      "                            Loading...\n",
      "                        </p>]\n",
      "<a class=\"btn btn-primary btn-solid\" href=\"https://www.csusb.edu/event/500551\">Register Here</a>\n",
      "https://www.csusb.edu/event/500551\n",
      "[<p>We're sorry, but we were unable to process your last request. Please try your request again.</p>, <p><a class=\"btn btn-primary\" href=\"/\" role=\"button\">Home</a></p>, <p id=\"JavascriptErrorDescription\"></p>, <p id=\"loadingspinner\" style=\"\">\n",
      "                            Loading...\n",
      "                        </p>]\n",
      "<a class=\"btn btn-primary btn-solid\" href=\"https://recshop.csusb.edu/Program/GetProgramDetails?courseId=10bf1e00-2c89-471b-8373-05374b04e99b\">Register Here</a>\n",
      "10bf1e00-2c89-471b-8373-05374b04e99b\n",
      "[<p>We're sorry, but we were unable to process your last request. Please try your request again.</p>, <p><a class=\"btn btn-primary\" href=\"/\" role=\"button\">Home</a></p>, <p id=\"JavascriptErrorDescription\"></p>, <p id=\"loadingspinner\" style=\"\">\n",
      "                            Loading...\n",
      "                        </p>]\n",
      "<a class=\"btn btn-primary btn-solid\" href=\"https://recshop.csusb.edu/Program/GetProgramDetails?courseId=2719cf80-3608-4e5e-b1f5-c1e2d3cd2bd8\">Register Here</a>\n",
      "2719cf80-3608-4e5e-b1f5-c1e2d3cd2bd8\n",
      "[<p>We're sorry, but we were unable to process your last request. Please try your request again.</p>, <p><a class=\"btn btn-primary\" href=\"/\" role=\"button\">Home</a></p>, <p id=\"JavascriptErrorDescription\"></p>, <p id=\"loadingspinner\" style=\"\">\n",
      "                            Loading...\n",
      "                        </p>]\n",
      "<a class=\"btn btn-primary btn-solid\" href=\"https://recshop.csusb.edu/Program/GetProgramDetails?courseId=b3d0a8ec-e96b-419c-ab7e-5d7197d392b7\">Register Here</a>\n",
      "b3d0a8ec-e96b-419c-ab7e-5d7197d392b7\n",
      "[<p>We're sorry, but we were unable to process your last request. Please try your request again.</p>, <p><a class=\"btn btn-primary\" href=\"/\" role=\"button\">Home</a></p>, <p id=\"JavascriptErrorDescription\"></p>, <p id=\"loadingspinner\" style=\"\">\n",
      "                            Loading...\n",
      "                        </p>]\n",
      "<a class=\"btn btn-primary btn-solid\" href=\"https://recshop.csusb.edu/Program/GetProgramDetails?courseId=c1b575bc-d9a3-4fac-8836-65d0fccf6f0d\">Register Here</a>\n",
      "c1b575bc-d9a3-4fac-8836-65d0fccf6f0d\n",
      "[<p>We're sorry, but we were unable to process your last request. Please try your request again.</p>, <p><a class=\"btn btn-primary\" href=\"/\" role=\"button\">Home</a></p>, <p id=\"JavascriptErrorDescription\"></p>, <p id=\"loadingspinner\" style=\"\">\n",
      "                            Loading...\n",
      "                        </p>]\n",
      "<a class=\"btn btn-primary btn-solid\" href=\"https://www.csusb.edu/event/501271\">Register Here</a>\n",
      "https://www.csusb.edu/event/501271\n",
      "[<p>We're sorry, but we were unable to process your last request. Please try your request again.</p>, <p><a class=\"btn btn-primary\" href=\"/\" role=\"button\">Home</a></p>, <p id=\"JavascriptErrorDescription\"></p>, <p id=\"loadingspinner\" style=\"\">\n",
      "                            Loading...\n",
      "                        </p>]\n",
      "<a class=\"btn btn-primary btn-solid\" href=\"https://recshop.csusb.edu/Program/GetProgramDetails?courseId=dd66c21c-297d-4dbe-a07d-3e4465f5c418\">Register Here</a>\n",
      "dd66c21c-297d-4dbe-a07d-3e4465f5c418\n",
      "[<p>We're sorry, but we were unable to process your last request. Please try your request again.</p>, <p><a class=\"btn btn-primary\" href=\"/\" role=\"button\">Home</a></p>, <p id=\"JavascriptErrorDescription\"></p>, <p id=\"loadingspinner\" style=\"\">\n",
      "                            Loading...\n",
      "                        </p>]\n",
      "<a class=\"btn btn-primary btn-solid\" href=\"https://recshop.csusb.edu/Program/GetProgramDetails?courseId=100e81e0-37f7-47a1-9d24-3c3fba4acb07\">Register Here</a>\n",
      "100e81e0-37f7-47a1-9d24-3c3fba4acb07\n",
      "[<p>We're sorry, but we were unable to process your last request. Please try your request again.</p>, <p><a class=\"btn btn-primary\" href=\"/\" role=\"button\">Home</a></p>, <p id=\"JavascriptErrorDescription\"></p>, <p id=\"loadingspinner\" style=\"\">\n",
      "                            Loading...\n",
      "                        </p>]\n",
      "None\n",
      "[<p>We're sorry, but we were unable to process your last request. Please try your request again.</p>, <p><a class=\"btn btn-primary\" href=\"/\" role=\"button\">Home</a></p>, <p id=\"JavascriptErrorDescription\"></p>, <p id=\"loadingspinner\" style=\"\">\n",
      "                            Loading...\n",
      "                        </p>]\n",
      "None\n",
      "[<p>We're sorry, but we were unable to process your last request. Please try your request again.</p>, <p><a class=\"btn btn-primary\" href=\"/\" role=\"button\">Home</a></p>, <p id=\"JavascriptErrorDescription\"></p>, <p id=\"loadingspinner\" style=\"\">\n",
      "                            Loading...\n",
      "                        </p>]\n",
      "None\n",
      "[<p>We're sorry, but we were unable to process your last request. Please try your request again.</p>, <p><a class=\"btn btn-primary\" href=\"/\" role=\"button\">Home</a></p>, <p id=\"JavascriptErrorDescription\"></p>, <p id=\"loadingspinner\" style=\"\">\n",
      "                            Loading...\n",
      "                        </p>]\n",
      "None\n",
      "[<p>We're sorry, but we were unable to process your last request. Please try your request again.</p>, <p><a class=\"btn btn-primary\" href=\"/\" role=\"button\">Home</a></p>, <p id=\"JavascriptErrorDescription\"></p>, <p id=\"loadingspinner\" style=\"\">\n",
      "                            Loading...\n",
      "                        </p>]\n",
      "None\n",
      "[<p>We're sorry, but we were unable to process your last request. Please try your request again.</p>, <p><a class=\"btn btn-primary\" href=\"/\" role=\"button\">Home</a></p>, <p id=\"JavascriptErrorDescription\"></p>, <p id=\"loadingspinner\" style=\"\">\n",
      "                            Loading...\n",
      "                        </p>]\n",
      "None\n",
      "[<p>We're sorry, but we were unable to process your last request. Please try your request again.</p>, <p><a class=\"btn btn-primary\" href=\"/\" role=\"button\">Home</a></p>, <p id=\"JavascriptErrorDescription\"></p>, <p id=\"loadingspinner\" style=\"\">\n",
      "                            Loading...\n",
      "                        </p>]\n",
      "None\n",
      "[<p>We're sorry, but we were unable to process your last request. Please try your request again.</p>, <p><a class=\"btn btn-primary\" href=\"/\" role=\"button\">Home</a></p>, <p id=\"JavascriptErrorDescription\"></p>, <p id=\"loadingspinner\" style=\"\">\n",
      "                            Loading...\n",
      "                        </p>]\n",
      "None\n",
      "[<p>We're sorry, but we were unable to process your last request. Please try your request again.</p>, <p><a class=\"btn btn-primary\" href=\"/\" role=\"button\">Home</a></p>, <p id=\"JavascriptErrorDescription\"></p>, <p id=\"loadingspinner\" style=\"\">\n",
      "                            Loading...\n",
      "                        </p>]\n"
     ]
    }
   ],
   "source": [
    "fusion_table = fetch_trip_info(csusb_trips)"
   ]
  },
  {
   "cell_type": "code",
   "execution_count": null,
   "metadata": {},
   "outputs": [
    {
     "data": {
      "text/plain": [
       "[['Disneyland Shuttle - SBC', ' March 2, 2025'],\n",
       " ['Queer Skies Ahead Hike - SBC', ' March 7, 2025'],\n",
       " ['Silverwood Lake Kayak - SBC', ' March 9, 2025'],\n",
       " ['Morro Bay Camp and Kayak - SBC', ' March 14, 2025 - March 16, 2025'],\n",
       " ['Pinnacles National Park Camp and Explore - SBC',\n",
       "  ' March 21, 2025 - March 23, 2025'],\n",
       " ['Big Bear Service and Hike - SBC', ' March 22, 2025'],\n",
       " ['Zion Camp and Explore Angels Landing - SBC',\n",
       "  ' March 29, 2025 - April 2, 2025'],\n",
       " ['Black Canyon Canoe and Camp - SBC', ' April 3, 2025 - April 6, 2025'],\n",
       " ['Six Flags Magic Mountain - SBC', ' April 6, 2025'],\n",
       " ['Leo Carrillo Beach Camp and Explore - SBC',\n",
       "  ' April 12, 2025 - April 13, 2025'],\n",
       " ['La Jolla Snorkel and Hike - SBC', ' April 13, 2025'],\n",
       " ['Yosemite Camp and Explore - SBC', ' April 18, 2025 - April 20, 2025'],\n",
       " ['Tahquitz Peak Hike - SBC', ' April 19, 2025'],\n",
       " ['SAIL Program Only: Silverwood Lake Kayak - SBC', ' April 25, 2025'],\n",
       " ['Indoor Skydiving - SBC', ' April 25, 2025'],\n",
       " ['Kings River Whitewater Raft and Camp - SBC',\n",
       "  ' April 26, 2025 - April 27, 2025'],\n",
       " ['Bungee Jump ', ' April 27, 2025'],\n",
       " ['Zion Camp and Explore - SBC', ' May 2, 2025 - May 4, 2025'],\n",
       " ['La Jolla Snorkel and Hike - SBC', ' May 4, 2025'],\n",
       " ['Life of Pi @ Ahmanson Theater - SBC', ' May 9, 2025'],\n",
       " ['Full Moon Hike - SBC', ' May 11, 2025'],\n",
       " ['Big Sur Camp and Explore - SBC', ' May 18, 2025 - May 21, 2025'],\n",
       " ['Getty Villa Museum - SBC', ' May 18, 2025'],\n",
       " ['Sedona Cabin and Explore - SBC and PDC', ' May 22, 2025 - May 25, 2025'],\n",
       " ['Santa Rosa Island Backpack and Explore - SBC',\n",
       "  ' May 23, 2025 - May 26, 2025'],\n",
       " ['Great Basin National Park and Star Train - SBC',\n",
       "  ' June 5, 2025 - June 8, 2025'],\n",
       " ['Huntington Library and Gardens - SBC', ' June 5, 2025'],\n",
       " ['San Francisco Urban Adventure - SBC', ' June 12, 2025 - June 15, 2025'],\n",
       " ['Aquarium of the Pacific - SBC', ' June 13, 2025'],\n",
       " ['Muir Day Challenge - SBC', ' June 19, 2025 - June 22, 2025'],\n",
       " ['Strawberry Peak Hike - SBC', ' June 22, 2025'],\n",
       " ['American River Raft and Camp - SBC and PDC',\n",
       "  ' June 27, 2025 - June 29, 2025'],\n",
       " ['La Jolla Snorkel and Hike - SBC', ' June 28, 2025']]"
      ]
     },
     "execution_count": 88,
     "metadata": {},
     "output_type": "execute_result"
    }
   ],
   "source": [
    "fusion_table"
   ]
  },
  {
   "cell_type": "markdown",
   "metadata": {},
   "source": [
    "santa rosa: 29ff794d-548e-407f-b511-10d04ec2798e\n",
    "disney    : 29ff794d-548e-407f-b511-10d04ec2798e"
   ]
  },
  {
   "cell_type": "code",
   "execution_count": 11,
   "metadata": {},
   "outputs": [],
   "source": [
    "def get_spots_left(course_id):\n",
    "    url = \"https://recshop.csusb.edu/Program/GetOfferingsForSemester\"\n",
    "\n",
    "    semesterId = \"29ff794d-548e-407f-b511-10d04ec2798e\"\n",
    "    \n",
    "\n",
    "    querystring = {f\"semesterId\":\"{semesterId}\",\"programId\":\"{course_id}\"}\n",
    "\n",
    "    payload = \"\"\n",
    "    headers = {\"cookie\": \"ASP.NET_SessionId=b4omal1okxattmuwb1rmyqpn\"}\n",
    "\n",
    "    response = requests.request(\"GET\", url, data=payload, headers=headers, params=querystring)\n",
    "\n",
    "    soup = BeautifulSoup(response.text, 'html.parser')\n",
    "\n",
    "    p_tag = soup.select('p')\n",
    "    print(p_tag)\n",
    "    \n",
    "   \n",
    "\n",
    "\n",
    "    #print(p_tag)"
   ]
  }
 ],
 "metadata": {
  "kernelspec": {
   "display_name": "base",
   "language": "python",
   "name": "python3"
  },
  "language_info": {
   "codemirror_mode": {
    "name": "ipython",
    "version": 3
   },
   "file_extension": ".py",
   "mimetype": "text/x-python",
   "name": "python",
   "nbconvert_exporter": "python",
   "pygments_lexer": "ipython3",
   "version": "3.12.7"
  }
 },
 "nbformat": 4,
 "nbformat_minor": 4
}
