{
 "cells": [
  {
   "cell_type": "code",
   "execution_count": 1,
   "id": "9ced18e5",
   "metadata": {
    "execution": {
     "iopub.execute_input": "2025-02-24T01:31:45.384155Z",
     "iopub.status.busy": "2025-02-24T01:31:45.383687Z",
     "iopub.status.idle": "2025-02-24T01:31:45.535466Z",
     "shell.execute_reply": "2025-02-24T01:31:45.534984Z",
     "shell.execute_reply.started": "2025-02-24T01:31:45.384130Z"
    },
    "scrolled": true
   },
   "outputs": [
    {
     "ename": "ModuleNotFoundError",
     "evalue": "No module named 'pandas'",
     "output_type": "error",
     "traceback": [
      "\u001b[0;31m---------------------------------------------------------------------------\u001b[0m",
      "\u001b[0;31mModuleNotFoundError\u001b[0m                       Traceback (most recent call last)",
      "Cell \u001b[0;32mIn[1], line 5\u001b[0m\n\u001b[1;32m      3\u001b[0m \u001b[38;5;28;01mimport\u001b[39;00m\u001b[38;5;250m \u001b[39m\u001b[38;5;21;01mrequests\u001b[39;00m\n\u001b[1;32m      4\u001b[0m \u001b[38;5;28;01mimport\u001b[39;00m\u001b[38;5;250m \u001b[39m\u001b[38;5;21;01mre\u001b[39;00m\n\u001b[0;32m----> 5\u001b[0m \u001b[38;5;28;01mimport\u001b[39;00m\u001b[38;5;250m \u001b[39m\u001b[38;5;21;01mpandas\u001b[39;00m\u001b[38;5;250m \u001b[39m\u001b[38;5;28;01mas\u001b[39;00m\u001b[38;5;250m \u001b[39m\u001b[38;5;21;01mpd\u001b[39;00m\n\u001b[1;32m      7\u001b[0m main_page \u001b[38;5;241m=\u001b[39m \u001b[38;5;124m\"\u001b[39m\u001b[38;5;124mhttps://www.csusb.edu/recreation-wellness/adventure/trips/all-trips-date\u001b[39m\u001b[38;5;124m\"\u001b[39m\n\u001b[1;32m      8\u001b[0m base_url \u001b[38;5;241m=\u001b[39m \u001b[38;5;124m\"\u001b[39m\u001b[38;5;124mhttps://www.csusb.edu\u001b[39m\u001b[38;5;124m\"\u001b[39m\n",
      "\u001b[0;31mModuleNotFoundError\u001b[0m: No module named 'pandas'"
     ]
    }
   ],
   "source": [
    "from bs4 import BeautifulSoup\n",
    "#from tabulate import tabulate\n",
    "import requests\n",
    "import re\n",
    "import pandas as pd\n",
    "\n",
    "main_page = \"https://www.csusb.edu/recreation-wellness/adventure/trips/all-trips-date\"\n",
    "base_url = \"https://www.csusb.edu\""
   ]
  },
  {
   "cell_type": "code",
   "execution_count": 2,
   "id": "493dfa27",
   "metadata": {
    "scrolled": true
   },
   "outputs": [],
   "source": [
    "def gathering():\n",
    "\n",
    "    response = requests.get(main_page)\n",
    "    soup = BeautifulSoup(response.text, 'html.parser')\n",
    "    html = soup.prettify()\n",
    "\n",
    "    list_of_href = soup.find_all('a', href=True)\n",
    "\n",
    "    pattern = re.compile(r'\\/event\\/\\d{5,6}')\n",
    "\n",
    "    href_trips = []\n",
    "\n",
    "    for i in list_of_href:\n",
    "\n",
    "        match = re.search(pattern, str(i))\n",
    "        if match:\n",
    "            href_trips.append(match.group())\n",
    "\n",
    "    return href_trips\n",
    "        \n"
   ]
  },
  {
   "cell_type": "code",
   "execution_count": 3,
   "id": "700e9b2e",
   "metadata": {},
   "outputs": [],
   "source": [
    "def gather_to_output(href_trips):\n",
    "    sign_up_button = []\n",
    "    spots_left = 0\n",
    "    scraped_data = [[\"Trip Name\", \"Trip Date\", \"Spots left\"]]\n",
    "\n",
    "    for page in href_trips:\n",
    "        trip = requests.get(base_url + page)\n",
    "        trip_soup = BeautifulSoup(trip.text, 'html.parser')\n",
    "    \n",
    "        trip_date = trip_soup.find('div', class_=\"event--date\").text\n",
    "        trip_name = trip_soup.find('h2', class_=\"event--title\").text\n",
    "\n",
    "        fusion_button = trip_soup.find('a', class_=\"btn btn-primary btn-solid\")\n",
    "    \n",
    "        if (fusion_button is not None) and (len(fusion_button.get('href')) == 145):\n",
    "            trip_spots = requests.get(fusion_button.get('href'))\n",
    "            fusions_page = BeautifulSoup(trip_spots.text, 'html.parser')\n",
    "        \n",
    "            if fusions_page.find('p', class_=\"car-text\") is None:\n",
    "                spots_left = \"0 spot(s)\"\n",
    "            else:\n",
    "                spots_left = fusions_page.find('p', class_=\"car-text\").text[:-9]\n",
    "        \n",
    "        scraped_data.append([trip_name, trip_date, spots_left])\n",
    "    \n",
    "    return scraped_data"
   ]
  },
  {
   "cell_type": "code",
   "execution_count": 5,
   "id": "a3cd498b",
   "metadata": {
    "scrolled": true
   },
   "outputs": [],
   "source": [
    "\n",
    "\n",
    "# querystring = {\"semesterId\":\"29ff794d-548e-407f-b511-10d04ec2798e\",\"programId\":\"26818908-5c62-4e25-9e83-1a2ba8d3975d\"}\n",
    "\n",
    "\n",
    "def crawler(semester_id, program_id):\n",
    "\n",
    "    url = \"https://recshop.csusb.edu/Program/GetOfferingsForSemester\"\n",
    "\n",
    "    querystring = {f\"semesterId\": semester_id,\n",
    "                   f\"programId\": program_id}\n",
    "\n",
    "    payload = \"\"\n",
    "\n",
    "    headers = {\"cookie\": \"ASP.NET_SessionId=mwucyrxvhltyzu14ylv5kwhs; __RequestVerificationToken=qDm0s90xP-P2qjIOe5ur3jqvkUN3cb7vI0U3ScIFqDIbcQJVgg0PPhLVr0DjDtp9hUPNjnN6rYZgTwVFZqkwLzFUWl8C6d1SeKKgbcEwOzA1\"}\n",
    "\n",
    "    response = requests.request(\"GET\", url, data=payload, headers=headers, params=querystring)\n",
    "\n",
    "    print(response.text)\n",
    "\n",
    "\n"
   ]
  },
  {
   "cell_type": "code",
   "execution_count": 6,
   "id": "d8d00c7e",
   "metadata": {},
   "outputs": [
    {
     "data": {
      "text/plain": [
       "['/event/585427',\n",
       " '/event/500553',\n",
       " '/event/503535',\n",
       " '/event/585428',\n",
       " '/event/577464',\n",
       " '/event/503544',\n",
       " '/event/582012',\n",
       " '/event/99841',\n",
       " '/event/570378',\n",
       " '/event/577528',\n",
       " '/event/100206',\n",
       " '/event/503542',\n",
       " '/event/577507',\n",
       " '/event/500487',\n",
       " '/event/99601',\n",
       " '/event/500382',\n",
       " '/event/577531',\n",
       " '/event/585714',\n",
       " '/event/577534',\n",
       " '/event/99596',\n",
       " '/event/97266',\n",
       " '/event/500551',\n",
       " '/event/578552',\n",
       " '/event/578551',\n",
       " '/event/578547',\n",
       " '/event/503540',\n",
       " '/event/501271',\n",
       " '/event/552629',\n",
       " '/event/500481',\n",
       " '/event/580197',\n",
       " '/event/500557',\n",
       " '/event/534830',\n",
       " '/event/582076',\n",
       " '/event/99301',\n",
       " '/event/585600',\n",
       " '/event/500009',\n",
       " '/event/553312']"
      ]
     },
     "execution_count": 6,
     "metadata": {},
     "output_type": "execute_result"
    }
   ],
   "source": [
    "trips_list_crawled = gathering()\n",
    "trips_list_crawled"
   ]
  },
  {
   "cell_type": "code",
   "execution_count": 7,
   "id": "28b12697",
   "metadata": {},
   "outputs": [
    {
     "data": {
      "text/plain": [
       "[['Trip Name', 'Trip Date', 'Spots left'],\n",
       " ['Snowshoe Hike Palms Springs Tramway - SBC', ' February 23, 2025', 0],\n",
       " ['DTLA in a Day - SBC', ' February 23, 2025', 0],\n",
       " ['Death Valley Camp and Explore - SBC',\n",
       "  ' February 28, 2025 - March 2, 2025',\n",
       "  0],\n",
       " ['Ice Skate - SBC', ' February 28, 2025', 0],\n",
       " ['Disneyland Shuttle - SBC', ' March 2, 2025', 0],\n",
       " ['Queer Skies Ahead Hike - SBC', ' March 7, 2025', 0],\n",
       " ['Silverwood Lake Kayak - SBC', ' March 9, 2025', 0],\n",
       " ['Morro Bay Camp and Kayak - SBC', ' March 14, 2025 - March 16, 2025', 0],\n",
       " ['Pinnacles National Park Camp and Explore - SBC',\n",
       "  ' March 21, 2025 - March 23, 2025',\n",
       "  0],\n",
       " ['Big Bear Service and Hike - SBC', ' March 22, 2025', 0],\n",
       " ['Zion Camp and Explore Angels Landing - SBC',\n",
       "  ' March 29, 2025 - April 2, 2025',\n",
       "  0],\n",
       " ['Black Canyon Canoe and Camp - SBC', ' April 3, 2025 - April 6, 2025', 0],\n",
       " ['Six Flags Magic Mountain - SBC', ' April 6, 2025', 0],\n",
       " ['Leo Carrillo Beach Camp and Explore - SBC',\n",
       "  ' April 12, 2025 - April 13, 2025',\n",
       "  0],\n",
       " ['La Jolla Snorkel and Hike - SBC', ' April 13, 2025', 0],\n",
       " ['Yosemite Camp and Explore - SBC', ' April 18, 2025 - April 20, 2025', 0],\n",
       " ['Tahquitz Peak Hike - SBC', ' April 19, 2025', 0],\n",
       " ['SAIL Program Only: Silverwood Lake Kayak - SBC', ' April 25, 2025', 0],\n",
       " ['Indoor Skydiving - SBC', ' April 25, 2025', 0],\n",
       " ['Kings River Whitewater Raft and Camp - SBC',\n",
       "  ' April 26, 2025 - April 27, 2025',\n",
       "  0],\n",
       " ['Bungee Jump ', ' April 27, 2025', 0],\n",
       " ['Zion Camp and Explore - SBC', ' May 2, 2025 - May 4, 2025', 0],\n",
       " ['La Jolla Snorkel and Hike - SBC', ' May 4, 2025', 0],\n",
       " ['Life of Pi @ Ahmanson Theater - SBC', ' May 9, 2025', 0],\n",
       " ['Full Moon Hike - SBC', ' May 11, 2025', 0],\n",
       " ['Big Sur Camp and Explore - SBC', ' May 18, 2025 - May 21, 2025', 0],\n",
       " ['Getty Villa Museum - SBC', ' May 18, 2025', 0],\n",
       " ['Sedona Cabin and Explore - SBC and PDC', ' May 22, 2025 - May 25, 2025', 0],\n",
       " ['Santa Rosa Island Backpack and Explore - SBC',\n",
       "  ' May 23, 2025 - May 26, 2025',\n",
       "  0],\n",
       " ['Great Basin National Park and Star Train - SBC',\n",
       "  ' June 5, 2025 - June 8, 2025',\n",
       "  0],\n",
       " ['Huntington Library and Gardens - SBC', ' June 5, 2025', 0],\n",
       " ['San Francisco Urban Adventure - SBC', ' June 12, 2025 - June 15, 2025', 0],\n",
       " ['Aquarium of the Pacific - SBC', ' June 13, 2025', 0],\n",
       " ['Muir Day Challenge - SBC', ' June 19, 2025 - June 22, 2025', 0],\n",
       " ['Strawberry Peak Hike - SBC', ' June 22, 2025', 0],\n",
       " ['American River Raft and Camp - SBC and PDC',\n",
       "  ' June 27, 2025 - June 29, 2025',\n",
       "  0],\n",
       " ['La Jolla Snorkel and Hike - SBC', ' June 28, 2025', 0]]"
      ]
     },
     "execution_count": 7,
     "metadata": {},
     "output_type": "execute_result"
    }
   ],
   "source": [
    "output = gather_to_output(trips_list_crawled)\n",
    "output"
   ]
  },
  {
   "cell_type": "code",
   "execution_count": null,
   "id": "8d4e29ab",
   "metadata": {},
   "outputs": [],
   "source": []
  }
 ],
 "metadata": {
  "kernelspec": {
   "display_name": "Python [conda env:base] *",
   "language": "python",
   "name": "conda-base-py"
  },
  "language_info": {
   "codemirror_mode": {
    "name": "ipython",
    "version": 3
   },
   "file_extension": ".py",
   "mimetype": "text/x-python",
   "name": "python",
   "nbconvert_exporter": "python",
   "pygments_lexer": "ipython3",
   "version": "3.12.7"
  }
 },
 "nbformat": 4,
 "nbformat_minor": 5
}
