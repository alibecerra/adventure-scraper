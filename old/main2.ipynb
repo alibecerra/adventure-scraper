{
 "cells": [
  {
   "cell_type": "code",
   "execution_count": 2,
   "metadata": {},
   "outputs": [],
   "source": [
    "from bs4 import BeautifulSoup\n",
    "import re\n",
    "import requests\n",
    "from tabulate import tabulate\n",
    "\n"
   ]
  },
  {
   "cell_type": "code",
   "execution_count": 4,
   "metadata": {},
   "outputs": [
    {
     "ename": "NameError",
     "evalue": "name 'requests' is not defined",
     "output_type": "error",
     "traceback": [
      "\u001b[0;31m---------------------------------------------------------------------------\u001b[0m",
      "\u001b[0;31mNameError\u001b[0m                                 Traceback (most recent call last)",
      "Cell \u001b[0;32mIn[4], line 4\u001b[0m\n\u001b[1;32m      1\u001b[0m main_page \u001b[38;5;241m=\u001b[39m \u001b[38;5;124m\"\u001b[39m\u001b[38;5;124mhttps://www.csusb.edu/recreation-wellness/adventure/trips/all-trips-date\u001b[39m\u001b[38;5;124m\"\u001b[39m\n\u001b[1;32m      2\u001b[0m base_url \u001b[38;5;241m=\u001b[39m \u001b[38;5;124m\"\u001b[39m\u001b[38;5;124mhttps://www.csusb.edu\u001b[39m\u001b[38;5;124m\"\u001b[39m\n\u001b[0;32m----> 4\u001b[0m response \u001b[38;5;241m=\u001b[39m \u001b[43mrequests\u001b[49m\u001b[38;5;241m.\u001b[39mget(main_page)\n\u001b[1;32m      5\u001b[0m soup \u001b[38;5;241m=\u001b[39m BeautifulSoup(response\u001b[38;5;241m.\u001b[39mtext, \u001b[38;5;124m'\u001b[39m\u001b[38;5;124mhtml.parser\u001b[39m\u001b[38;5;124m'\u001b[39m)\n\u001b[1;32m      6\u001b[0m html \u001b[38;5;241m=\u001b[39m soup\u001b[38;5;241m.\u001b[39mprettify()\n",
      "\u001b[0;31mNameError\u001b[0m: name 'requests' is not defined"
     ]
    }
   ],
   "source": [
    "main_page = \"https://www.csusb.edu/recreation-wellness/adventure/trips/all-trips-date\"\n",
    "base_url = \"https://www.csusb.edu\"\n",
    "\n",
    "response = requests.get(main_page)\n",
    "soup = BeautifulSoup(response.text, 'html.parser')\n",
    "html = soup.prettify()\n",
    "\n",
    "list_of_href = soup.find_all('a', href=True)\n",
    "\n",
    "pattern = re.compile(r'\\/event\\/\\d{5,6}')\n",
    "\n",
    "href_trips = []\n",
    "\n",
    "for i in list_of_href:\n",
    "\n",
    "    match = re.search(pattern, str(i))\n",
    "    if match:\n",
    "        href_trips.append(match.group())\n",
    "\n",
    "\n",
    "href_trips\n"
   ]
  },
  {
   "cell_type": "code",
   "execution_count": 64,
   "metadata": {},
   "outputs": [],
   "source": [
    "sign_up_button = []\n",
    "\n",
    "scraped_data = [[\"Trip Name\", \"Trip Date\", \"Spots left\"]]\n",
    "\n",
    "for page in href_trips:\n",
    "    trip = requests.get(base_url + page)\n",
    "    trip_soup = BeautifulSoup(trip.text, 'html.parser')\n",
    "    \n",
    "    trip_date = trip_soup.find('div', class_=\"event--date\").text\n",
    "    trip_name = trip_soup.find('h2', class_=\"event--title\").text\n",
    "\n",
    "    fusion_button = trip_soup.find('a', class_=\"btn btn-primary btn-solid\")\n",
    "    \n",
    "    if (fusion_button is not None) and (len(fusion_button.get('href')) == 145):\n",
    "        trip_spots = requests.get(fusion_button.get('href'))\n",
    "        fusions_page = BeautifulSoup(trip_spots.text, 'html.parser')\n",
    "        \n",
    "        if fusions_page.find('p', class_=\"car-text\") is None:\n",
    "            spots_left = \"0 spot(s)\"\n",
    "        else:\n",
    "            spots_left = fusions_page.find('p', class_=\"car-text\").text[:-9]\n",
    "        \n",
    "    scraped_data.append([trip_name, trip_date, spots_left])\n"
   ]
  },
  {
   "cell_type": "code",
   "execution_count": 11,
   "metadata": {},
   "outputs": [
    {
     "name": "stdout",
     "output_type": "stream",
     "text": [
      "6 Spots Left\n"
     ]
    }
   ],
   "source": [
    "import requests\n",
    "\n",
    "url = \"https://recshop.csusb.edu/Program/GetOfferingsForSemester\"\n",
    "\n",
    "querystring = {\"semesterId\":\"29ff794d-548e-407f-b511-10d04ec2798e\",\"programId\":\"d921b108-4059-4eef-bd42-9bd9c72c2557\"}\n",
    "\n",
    "payload = \"\"\n",
    "headers = {\"cookie\": \"ASP.NET_SessionId=b4omal1okxattmuwb1rmyqpn\"}\n",
    "\n",
    "response = requests.request(\"GET\", url, data=payload, headers=headers, params=querystring)\n",
    "\n",
    "soup = BeautifulSoup(response.text, 'html.parser')\n",
    "\n",
    "\n",
    "print((soup.select('p')[1]).text)"
   ]
  }
 ],
 "metadata": {
  "kernelspec": {
   "display_name": "base",
   "language": "python",
   "name": "python3"
  },
  "language_info": {
   "codemirror_mode": {
    "name": "ipython",
    "version": 3
   },
   "file_extension": ".py",
   "mimetype": "text/x-python",
   "name": "python",
   "nbconvert_exporter": "python",
   "pygments_lexer": "ipython3",
   "version": "3.12.7"
  }
 },
 "nbformat": 4,
 "nbformat_minor": 4
}
